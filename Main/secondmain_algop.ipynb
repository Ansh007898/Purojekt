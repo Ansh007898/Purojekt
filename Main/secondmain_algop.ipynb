{
 "cells": [
  {
   "cell_type": "code",
   "execution_count": 4,
   "metadata": {},
   "outputs": [],
   "source": [
    "#retrieve data from second_main. \n",
    "#direct pull from cardio_train\n",
    "%store -r dataPull \n",
    "#mapping dictionary(look to second_main)\n",
    "%store -r dictOutput \n",
    "#dataPull[binary values become True and False]\n",
    "%store -r testdata \n",
    "#first format: categoricals become categorical, proper scale for age und height\n",
    "%store -r formattedtestdata \n",
    "#testdata.copy()\n",
    "%store -r z \n",
    "#testdatacopy, remove out_of_range values in ap_hi and ap_lo\n",
    "%store -r testdataccopy \n",
    "#dataPull, but only categories that  not categorical yet[still int]. \n",
    "%store -r data_catFullUnchanged \n",
    "#data_catFullUnchanged, all categories switched to categoricals and binaries\n",
    "%store -r data_catFull \n",
    "#variables to consider after analysis\n",
    "%store -r variables_to_consider "
   ]
  },
  {
   "attachments": {},
   "cell_type": "markdown",
   "metadata": {},
   "source": [
    "### TodoList\n",
    "Fitting: <br>\n",
    "    1. Model fitting <br>\n",
    "    2. Do analysis and determine if proper fitting of data <br>\n",
    "Demonstration: <br>\n",
    "    1. Function where I can stick in the relevant values and spit out a probability of having cardiovascular disease. <br>"
   ]
  },
  {
   "cell_type": "code",
   "execution_count": 5,
   "metadata": {},
   "outputs": [
    {
     "data": {
      "text/plain": [
       "['age', 'weight', 'ap_hi', 'ap_lo', 'cholesterol', 'gluc', 'active']"
      ]
     },
     "execution_count": 5,
     "metadata": {},
     "output_type": "execute_result"
    }
   ],
   "source": [
    "variables_to_consider"
   ]
  },
  {
   "attachments": {},
   "cell_type": "markdown",
   "metadata": {},
   "source": [
    "This is what we had considered from our data analysis. In the end goal, I want to have a function that goes: <br>\n",
    "F(age, wt, blood_sys, blood_dia, cholesterol_cat, glucose_cat, active : bool) = P(get cardiovascular disease). "
   ]
  },
  {
   "cell_type": "code",
   "execution_count": null,
   "metadata": {},
   "outputs": [],
   "source": []
  }
 ],
 "metadata": {
  "kernelspec": {
   "display_name": "base",
   "language": "python",
   "name": "python3"
  },
  "language_info": {
   "codemirror_mode": {
    "name": "ipython",
    "version": 3
   },
   "file_extension": ".py",
   "mimetype": "text/x-python",
   "name": "python",
   "nbconvert_exporter": "python",
   "pygments_lexer": "ipython3",
   "version": "3.9.13"
  },
  "orig_nbformat": 4
 },
 "nbformat": 4,
 "nbformat_minor": 2
}
