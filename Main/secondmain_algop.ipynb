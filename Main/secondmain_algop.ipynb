{
 "cells": [
  {
   "cell_type": "code",
   "execution_count": 4,
   "metadata": {},
   "outputs": [],
   "source": [
    "#retrieve data from second_main. \n",
    "%store -r dataPull\n",
    "%store -r dictOutput\n",
    "%store -r testdata\n",
    "%store -r formattedtestdata\n",
    "%store -r z\n",
    "%store -r testdataccopy\n",
    "%store -r data_catFullUnchanged\n",
    "%store -r data_catFull"
   ]
  }
 ],
 "metadata": {
  "kernelspec": {
   "display_name": "base",
   "language": "python",
   "name": "python3"
  },
  "language_info": {
   "codemirror_mode": {
    "name": "ipython",
    "version": 3
   },
   "file_extension": ".py",
   "mimetype": "text/x-python",
   "name": "python",
   "nbconvert_exporter": "python",
   "pygments_lexer": "ipython3",
   "version": "3.9.13"
  },
  "orig_nbformat": 4
 },
 "nbformat": 4,
 "nbformat_minor": 2
}
