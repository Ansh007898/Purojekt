{
 "cells": [
  {
   "cell_type": "code",
   "execution_count": 1,
   "metadata": {},
   "outputs": [],
   "source": [
    "#retrieve data from second_main. \n",
    "#direct pull from cardio_train\n",
    "%store -r dataPull \n",
    "#mapping dictionary(look to second_main)\n",
    "%store -r dictOutput \n",
    "#dataPull[binary values become True and False]\n",
    "%store -r testdata \n",
    "#first format: categoricals become categorical, proper scale for age und height\n",
    "%store -r formattedtestdata \n",
    "#testdata.copy()\n",
    "%store -r z \n",
    "#testdatacopy, remove out_of_range values in ap_hi and ap_lo\n",
    "%store -r testdataccopy \n",
    "#dataPull, but only categories that  not categorical yet[still int]. \n",
    "%store -r data_catFullUnchanged \n",
    "#data_catFullUnchanged, all categories switched to categoricals and binaries\n",
    "%store -r data_catFull \n",
    "#variables to consider after analysis\n",
    "%store -r variables_to_consider "
   ]
  },
  {
   "attachments": {},
   "cell_type": "markdown",
   "metadata": {},
   "source": [
    "### TodoList\n",
    "Fitting: <br>\n",
    "    1. Model fitting <br>\n",
    "    2. Do analysis and determine if proper fitting of data <br>\n",
    "Demonstration: <br>\n",
    "    1. Function where I can stick in the relevant values and spit out a probability of having cardiovascular disease. <br>"
   ]
  },
  {
   "cell_type": "code",
   "execution_count": 4,
   "metadata": {},
   "outputs": [
    {
     "data": {
      "text/plain": [
       "{'categorical': ['gender', 'cholesterol', 'gluc'],\n",
       " 'cat': ['gender', 'cholesterol', 'gluc'],\n",
       " 'binary': ['smoke', 'alco', 'active', 'cardio'],\n",
       " 'bin': ['smoke', 'alco', 'active', 'cardio'],\n",
       " 'genderFrom': [1, 2],\n",
       " 'genderTo': ['Female', 'Male'],\n",
       " 'glucFrom': [1, 2, 3],\n",
       " 'glucTo': ['Norm', 'AbvNorm', 'WellAbvNorm'],\n",
       " 'cholFrom': [1, 2, 3],\n",
       " 'cholesterolFrom': [1, 2, 3],\n",
       " 'cholTo': ['Norm', 'AbvNorm', 'WellAbvNorm'],\n",
       " 'cholesterolTo': ['Norm', 'AbvNorm', 'WellAbvNorm']}"
      ]
     },
     "execution_count": 4,
     "metadata": {},
     "output_type": "execute_result"
    }
   ],
   "source": [
    "dictOutput"
   ]
  },
  {
   "attachments": {},
   "cell_type": "markdown",
   "metadata": {},
   "source": [
    "This is what we had considered from our data analysis. In the end goal, I want to have a function that goes: <br>\n",
    "F(age, wt, blood_sys, blood_dia, cholesterol_cat, glucose_cat, active : bool) = P(get cardiovascular disease). "
   ]
  },
  {
   "cell_type": "code",
   "execution_count": 6,
   "metadata": {},
   "outputs": [],
   "source": [
    "#From https://machinelearningmastery.com/how-to-prepare-categorical-data-for-deep-learning-in-python/\n",
    "from pandas import read_csv\n",
    "from sklearn.model_selection import train_test_split\n",
    "from sklearn.preprocessing import LabelEncoder\n",
    "from sklearn.preprocessing import OrdinalEncoder\n",
    " \n",
    "# prepare input data\n",
    "def prepare_inputs(X_train, X_test):\n",
    " oe = OrdinalEncoder()\n",
    " oe.fit(X_train)\n",
    " X_train_enc = oe.transform(X_train)\n",
    " X_test_enc = oe.transform(X_test)\n",
    " return X_train_enc, X_test_enc\n",
    " \n",
    "# prepare target\n",
    "def prepare_targets(y_train, y_test):\n",
    " le = LabelEncoder()\n",
    " le.fit(y_train)\n",
    " y_train_enc = le.transform(y_train)\n",
    " y_test_enc = le.transform(y_test)\n",
    " return y_train_enc, y_test_enc\n",
    " \n",
    "# # load the dataset\n",
    "# X, y = load_dataset('breast-cancer.csv')\n",
    "# # split into train and test sets\n",
    "# X_train, X_test, y_train, y_test = train_test_split(X, y, test_size=0.33, random_state=1)\n",
    "# # prepare input data\n",
    "# X_train_enc, X_test_enc = prepare_inputs(X_train, X_test)\n",
    "# # prepare output data\n",
    "# y_train_enc, y_test_enc = prepare_targets(y_train, y_test)\n",
    "# # define the  model\n",
    "# model = Sequential()\n",
    "# model.add(Dense(10, input_dim=X_train_enc.shape[1], activation='relu', kernel_initializer='he_normal'))\n",
    "# model.add(Dense(1, activation='sigmoid'))\n",
    "# # compile the keras model\n",
    "# model.compile(loss='binary_crossentropy', optimizer='adam', metrics=['accuracy'])\n",
    "# # fit the keras model on the dataset\n",
    "# model.fit(X_train_enc, y_train_enc, epochs=100, batch_size=16, verbose=2)\n",
    "# # evaluate the keras model\n",
    "# _, accuracy = model.evaluate(X_test_enc, y_test_enc, verbose=0)\n",
    "# print('Accuracy: %.2f' % (accuracy*100))"
   ]
  },
  {
   "cell_type": "code",
   "execution_count": 40,
   "metadata": {},
   "outputs": [],
   "source": [
    "\"\"\"Utility/Helper functions\"\"\"\n",
    "def prepareI(df, split_size : int):\n",
    "    a0 = df.values #convert testdataccopy to numpy array\n",
    "    x_0 = a0[:, :-1] #get predictors\n",
    "    y_0 = a0[:, -1] #get results\n",
    "    x = x_0.astype(str) #return predictors casted as strings\n",
    "    y = y_0.reshape((len(y_0), 1)) #and results reshaped into individual arrays. \n",
    "    return train_test_split(x, y, test_size = split_size / df.shape[0])"
   ]
  },
  {
   "cell_type": "code",
   "execution_count": 41,
   "metadata": {},
   "outputs": [],
   "source": [
    "X_train, X_test, y_train, y_test = prepareI(testdataccopy, 22000) #get train and test sets."
   ]
  },
  {
   "cell_type": "code",
   "execution_count": 44,
   "metadata": {},
   "outputs": [
    {
     "data": {
      "text/plain": [
       "(22000, 1)"
      ]
     },
     "execution_count": 44,
     "metadata": {},
     "output_type": "execute_result"
    }
   ],
   "source": [
    "y_test.shape"
   ]
  },
  {
   "cell_type": "code",
   "execution_count": null,
   "metadata": {},
   "outputs": [],
   "source": [
    "#some links\n",
    "#https://machinelearningmastery.com/how-to-prepare-categorical-data-for-deep-learning-in-python/\n",
    "#https://towardsdatascience.com/linear-discriminant-analysis-in-python-76b8b17817c2"
   ]
  }
 ],
 "metadata": {
  "kernelspec": {
   "display_name": "base",
   "language": "python",
   "name": "python3"
  },
  "language_info": {
   "codemirror_mode": {
    "name": "ipython",
    "version": 3
   },
   "file_extension": ".py",
   "mimetype": "text/x-python",
   "name": "python",
   "nbconvert_exporter": "python",
   "pygments_lexer": "ipython3",
   "version": "3.9.13"
  },
  "orig_nbformat": 4
 },
 "nbformat": 4,
 "nbformat_minor": 2
}
